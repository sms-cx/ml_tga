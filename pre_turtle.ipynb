{
 "cells": [
  {
   "cell_type": "code",
   "execution_count": 1,
   "outputs": [],
   "source": [
    "import turtle as trt\n",
    "import random\n",
    "\n",
    "# settings\n",
    "trt.setup(800, 800, 0, 0)\n",
    "trt.pensize(2)\n",
    "tt1_pencolor = ['#FFBE86', '#FFE156', '#FFE9CE', '#FFB5C2', '#BD4F6C']\n",
    "tt2_pencolor = ['#ffbe0b', '#fb5607', '#ff006e', '#8338ec', '#3a86ff']\n",
    "tt3_pencolor = ['#9CFFFA', '#e6af2e', '#3d348b', '#885a5a', '#f6511d']\n",
    "trt.speed(200)\n",
    "trt.ht()\n",
    "x = 0\n",
    "\n",
    "# turtle movement\n",
    "def turtle_movement2(angle, distance):\n",
    "    trt.bk(distance/2)\n",
    "    a = 0\n",
    "    while True:\n",
    "        if a >= 360:\n",
    "            break\n",
    "        trt.pencolor(random.choice(tt3_pencolor))\n",
    "        trt.pendown()\n",
    "        trt.fd(distance)\n",
    "        trt.left(angle)\n",
    "        a += 180 - angle\n",
    "        # print(a)\n",
    "\n",
    "    trt.done()\n",
    "\n",
    "turtle_movement2(175, 600)\n",
    "\n",
    "# more test"
   ],
   "metadata": {
    "collapsed": false,
    "pycharm": {
     "name": "#%%\n"
    }
   }
  },
  {
   "cell_type": "code",
   "execution_count": null,
   "outputs": [],
   "source": [],
   "metadata": {
    "collapsed": false,
    "pycharm": {
     "name": "#%%\n"
    }
   }
  }
 ],
 "metadata": {
  "kernelspec": {
   "display_name": "Python 3",
   "language": "python",
   "name": "python3"
  },
  "language_info": {
   "codemirror_mode": {
    "name": "ipython",
    "version": 2
   },
   "file_extension": ".py",
   "mimetype": "text/x-python",
   "name": "python",
   "nbconvert_exporter": "python",
   "pygments_lexer": "ipython2",
   "version": "2.7.6"
  }
 },
 "nbformat": 4,
 "nbformat_minor": 0
}